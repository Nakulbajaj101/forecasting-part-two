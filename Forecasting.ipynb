{
 "cells": [
  {
   "cell_type": "markdown",
   "id": "8776a2e7",
   "metadata": {},
   "source": [
    "# 1 Import Libraries and Packages "
   ]
  },
  {
   "cell_type": "code",
   "execution_count": null,
   "id": "31332f8b",
   "metadata": {},
   "outputs": [],
   "source": [
    "#Import the libraries\n",
    "import pandas as pd\n",
    "import matplotlib.pyplot as plt\n",
    "import numpy as np\n",
    "import os\n",
    "\n",
    "from datetime import datetime, timedelta, date\n",
    "from prophet import Prophet\n",
    "from neuralprophet import NeuralProphet\n",
    "from pmdarima.arima import auto_arima\n",
    "from statsmodels.tsa.seasonal import seasonal_decompose\n",
    "from statsmodels.tsa.arima.model import ARIMA\n",
    "from statsmodels.tsa.statespace.sarimax import SARIMAX\n",
    "from statsmodels.tsa.stattools import adfuller\n",
    "from statsmodels.tsa.exponential_smoothing import ets\n",
    "from statsmodels.tools.eval_measures import rmse, mse\n",
    "from statsmodels.graphics.tsaplots import plot_acf, plot_pacf"
   ]
  },
  {
   "cell_type": "code",
   "execution_count": null,
   "id": "6873d5ad",
   "metadata": {},
   "outputs": [],
   "source": [
    "user = os.getenv(\"USER\")"
   ]
  },
  {
   "cell_type": "markdown",
   "id": "15b31ae4",
   "metadata": {},
   "source": [
    "# 2 Import the dataset and check the columns"
   ]
  },
  {
   "cell_type": "code",
   "execution_count": null,
   "id": "40d56673",
   "metadata": {},
   "outputs": [],
   "source": [
    "#Import the dataset\n",
    "\n",
    "data = pd.read_csv(f\"/Users/{user}/forecasting-part-two/victoria_covid_cases_source_updated.csv\", date_parser=True)"
   ]
  },
  {
   "cell_type": "code",
   "execution_count": null,
   "id": "3d37fbad",
   "metadata": {},
   "outputs": [],
   "source": [
    "print(data.shape) #Getting the shape of the data\n",
    "data.head()"
   ]
  },
  {
   "cell_type": "code",
   "execution_count": null,
   "id": "5b766576",
   "metadata": {},
   "outputs": [],
   "source": [
    "#Getting all the dates between, since there is a chance some dates in between are missing\n",
    "full_dates = pd.date_range(start=data.diagnosis_date.min(),\n",
    "              end=data.diagnosis_date.max())\n",
    "full_dates = pd.to_datetime(full_dates, format=\"%Y-%m-%d\")\n",
    "print(full_dates.shape)"
   ]
  },
  {
   "cell_type": "code",
   "execution_count": null,
   "id": "9b8de470",
   "metadata": {},
   "outputs": [],
   "source": [
    "#Aggregating the data, and getting daily cases\n",
    "vic_cases = data.groupby([\"diagnosis_date\"]).agg({\"Postcode\":\"count\"})\\\n",
    "                .rename(columns={\"Postcode\":\"total_cases\"})\n",
    "#Formatting the index\n",
    "vic_cases.index = pd.to_datetime(vic_cases.index, format='%Y-%m-%d')\n",
    "\n",
    "#Filling the missing dates\n",
    "vic_cases = vic_cases.reindex(full_dates,fill_value=0)\n",
    "\n",
    "#print the shape\n",
    "print(vic_cases.shape)\n",
    "\n",
    "vic_cases.head()"
   ]
  },
  {
   "cell_type": "code",
   "execution_count": null,
   "id": "ae353319",
   "metadata": {},
   "outputs": [],
   "source": [
    "#updating the date from object datatype to date datatype \n",
    "vic_cases.index.asfreq = \"d\" #adding the frequency to daily"
   ]
  },
  {
   "cell_type": "markdown",
   "id": "02ec6c6c",
   "metadata": {},
   "source": [
    "# 3 Explore the data"
   ]
  },
  {
   "cell_type": "code",
   "execution_count": null,
   "id": "65bc960c",
   "metadata": {},
   "outputs": [],
   "source": [
    "#Chaging the figsize\n",
    "plt.rcParams[\"figure.figsize\"] = (12,8)\n",
    "\n",
    "#Lets the plot the data\n",
    "vic_cases.plot()\n",
    "plt.ylabel(\"Num Cases\");"
   ]
  },
  {
   "cell_type": "code",
   "execution_count": null,
   "id": "bde9ef3b",
   "metadata": {
    "scrolled": true
   },
   "outputs": [],
   "source": [
    "#Lets apply the Seasonal decomposition\n",
    "results = seasonal_decompose(vic_cases[\"total_cases\"], period=207)\n",
    "results.plot();"
   ]
  },
  {
   "cell_type": "markdown",
   "id": "19f751a0",
   "metadata": {},
   "source": [
    "# 4 Find the AR, MA, I values using plots and do some statistical tests"
   ]
  },
  {
   "cell_type": "code",
   "execution_count": null,
   "id": "281c47ab",
   "metadata": {},
   "outputs": [],
   "source": [
    "#Lets check if our lags are correlated\n",
    "total_lags = [1, 2, 5, 10, 20]\n",
    "fig, axes = plt.subplots(nrows=len(total_lags), ncols=1, figsize=(12,40))\n",
    "index=0\n",
    "for lg in total_lags:\n",
    "    pd.plotting.lag_plot(vic_cases[\"total_cases\"], lag=lg, ax=axes[index]);\n",
    "    axes[index].set_title(f\"Correlation cases with lag {lg}\")\n",
    "    index+=1"
   ]
  },
  {
   "cell_type": "code",
   "execution_count": null,
   "id": "b04322d9",
   "metadata": {},
   "outputs": [],
   "source": [
    "#Lets make it easier and use acf plot, and use this to get the value for AR side of the model\n",
    "plot_acf(vic_cases['total_cases'],lags=30);"
   ]
  },
  {
   "cell_type": "code",
   "execution_count": null,
   "id": "54d01b3b",
   "metadata": {
    "scrolled": true
   },
   "outputs": [],
   "source": [
    "#Lets make it easier and use pacf plot, and use this to get the value for MA side of the model\n",
    "plot_pacf(vic_cases['total_cases'],lags=30);"
   ]
  },
  {
   "cell_type": "code",
   "execution_count": null,
   "id": "74c844c8",
   "metadata": {},
   "outputs": [],
   "source": [
    "#Let check if data is stationary, if value is below 0.05, we can determine data is stationary\n",
    "def adf_fuller_df(df, colname=\"\"):\n",
    "    \"\"\"\"The null hypothesis of the Augmented Dickey-Fuller is that there is a unit\n",
    "        root, which means there is a trend component, with the alternative that \n",
    "        there is no unit root, hence no trend component. If the pvalue is above \n",
    "        a critical size, then we cannot reject that there is a unit root.\"\"\"\n",
    "\n",
    "    df = df.copy()\n",
    "    vals = adfuller(df[colname])\n",
    "    first_columns = [\"adf\", \"p-value\", \"usedlags\", \"number of observations\"]\n",
    "    other_column = \"icbest\"\n",
    "    df = pd.DataFrame(data=pd.Series(vals[0:4], index=first_columns)).T\n",
    "    for key, val in vals[4].items():\n",
    "        df[f\"Critical value for {key}\"] = val\n",
    "    df[other_column] = vals[5]\n",
    "    p_value = df[\"p-value\"][0]\n",
    "    if  p_value <= 0.05:\n",
    "        print(f\"\"\"We should reject the null hypothesis, since there is enough \n",
    "        evidence series is stationary, as there is only {np.round(p_value*100,2)} percent\n",
    "        likelihood, that series is not stationary, and is very small\"\"\")\n",
    "    else:\n",
    "        print(\"We should further difference the series with itself \")\n",
    "    \n",
    "    return df"
   ]
  },
  {
   "cell_type": "code",
   "execution_count": null,
   "id": "5d4cd30e",
   "metadata": {},
   "outputs": [],
   "source": [
    "adf_fuller_df(vic_cases, \"total_cases\")"
   ]
  },
  {
   "cell_type": "code",
   "execution_count": null,
   "id": "c29b47f5",
   "metadata": {},
   "outputs": [],
   "source": [
    "#Can we use auto arima instead to get all values of AR, I and MA\n",
    "# Based on the plots, we could say AR can be max 21, MA could be max 3 and I is 0"
   ]
  },
  {
   "cell_type": "markdown",
   "id": "54c23e3c",
   "metadata": {},
   "source": [
    "# 5 Run auto arima to find out values for AR, MA and I side of the modes"
   ]
  },
  {
   "cell_type": "code",
   "execution_count": null,
   "id": "5323eda5",
   "metadata": {},
   "outputs": [],
   "source": [
    "auto_arima_model = auto_arima(vic_cases[\"total_cases\"],\n",
    "                               max_p=30, \n",
    "                               max_q=30, \n",
    "                               max_order=62, \n",
    "                               n_jobs=1, \n",
    "                               seasonal=False, \n",
    "                               random_state=42, #seed\n",
    "                               n_fits=10,\n",
    "                               trace=True\n",
    "                             )\n",
    "#Getting the summary from the model\n",
    "auto_arima_model.summary()"
   ]
  },
  {
   "cell_type": "markdown",
   "id": "87095ba3",
   "metadata": {},
   "source": [
    "# 6 Lets split the data into training and Test"
   ]
  },
  {
   "cell_type": "code",
   "execution_count": null,
   "id": "6958b83f",
   "metadata": {},
   "outputs": [],
   "source": [
    "#Lets split the data into train and testing\n",
    "train = vic_cases[:\"2021-08-20\"]\n",
    "test = vic_cases[\"2021-08-21\":]"
   ]
  },
  {
   "cell_type": "code",
   "execution_count": null,
   "id": "944c52e0",
   "metadata": {},
   "outputs": [],
   "source": [
    "ax = train.plot()\n",
    "ax.plot(test)\n",
    "ax.legend([\"TRAIN\", \"TEST\"]);"
   ]
  },
  {
   "cell_type": "code",
   "execution_count": null,
   "id": "cbb0a1ac",
   "metadata": {},
   "outputs": [],
   "source": [
    "auto_arima_model = auto_arima(train[\"total_cases\"],\n",
    "                               max_p=30, \n",
    "                               max_q=30, \n",
    "                               max_order=62, \n",
    "                               n_jobs=1, \n",
    "                               seasonal=False, \n",
    "                               random_state=42, #seed\n",
    "                               n_fits=10,\n",
    "                               trace=True\n",
    "                             )\n",
    "#Getting the summary from the model\n",
    "auto_arima_model.summary()"
   ]
  },
  {
   "cell_type": "markdown",
   "id": "212323a2",
   "metadata": {},
   "source": [
    "# 7 Train the model based on ARIMA terms from Auto arima"
   ]
  },
  {
   "cell_type": "code",
   "execution_count": null,
   "id": "beee9adb",
   "metadata": {},
   "outputs": [],
   "source": [
    "#train the data based on the parameters we got\n",
    "arima_model = ARIMA(train[\"total_cases\"], order=(5,1,2)).fit()\n",
    "arima_model.summary()"
   ]
  },
  {
   "cell_type": "markdown",
   "id": "2fac912f",
   "metadata": {},
   "source": [
    "# 8 Make predictions"
   ]
  },
  {
   "cell_type": "code",
   "execution_count": null,
   "id": "110f7af1",
   "metadata": {},
   "outputs": [],
   "source": [
    "#Predict the model\n",
    "start = train.shape[0] \n",
    "end = train.shape[0] + test.shape[0] - 1\n",
    "arima_predictions = arima_model.predict(start=start, end=end)"
   ]
  },
  {
   "cell_type": "code",
   "execution_count": null,
   "id": "cac9fec6",
   "metadata": {},
   "outputs": [],
   "source": [
    "results=test\n",
    "test[\"predictions\"] = [p for p in arima_predictions]"
   ]
  },
  {
   "cell_type": "code",
   "execution_count": null,
   "id": "8c6bc075",
   "metadata": {},
   "outputs": [],
   "source": [
    "#plotting the results\n",
    "ax = train.plot()\n",
    "ax.plot(test[\"total_cases\"])\n",
    "ax.plot(test[\"predictions\"])\n",
    "ax.set_xlim(date(2021,7,1),date(2021,8,25))\n",
    "ax.set_ylim(-3,100)\n",
    "ax.legend([\"TRAIN\", \"TEST\", \"PRED\"]);"
   ]
  },
  {
   "cell_type": "markdown",
   "id": "6270a1fb",
   "metadata": {},
   "source": [
    "# 9 Evaluate the model"
   ]
  },
  {
   "cell_type": "code",
   "execution_count": null,
   "id": "cac3d155",
   "metadata": {},
   "outputs": [],
   "source": [
    "#measure performance\n",
    "RMSE=rmse(results.total_cases, results.predictions)\n",
    "MSE=mse(results.total_cases, results.predictions)\n",
    "\n",
    "print(f\"rmse is {RMSE}\")\n",
    "print(f\"mse is {MSE}\")\n",
    "print(\"mean is {}\".format(test.total_cases.mean()))"
   ]
  },
  {
   "cell_type": "markdown",
   "id": "517cff41",
   "metadata": {},
   "source": [
    "# 10 Lets try model building training, testing with Fb Prophet Library"
   ]
  },
  {
   "cell_type": "code",
   "execution_count": null,
   "id": "3423e3c8",
   "metadata": {},
   "outputs": [],
   "source": [
    "#The library like dates in DS column and target variable in Y\n",
    "vic_cases = vic_cases.reset_index()\n",
    "vic_cases = vic_cases.rename(columns={\"total_cases\":\"y\", \"index\":\"ds\"})\n",
    "vic_cases.head()"
   ]
  },
  {
   "cell_type": "code",
   "execution_count": null,
   "id": "ddd1dae2",
   "metadata": {},
   "outputs": [],
   "source": [
    "#splitting data into training and testing\n",
    "trainX=vic_cases[:-test.shape[0]]\n",
    "textX=vic_cases[-test.shape[0]:]"
   ]
  },
  {
   "cell_type": "code",
   "execution_count": null,
   "id": "6dccf894",
   "metadata": {},
   "outputs": [],
   "source": [
    "#Train the model\n",
    "\n",
    "#Define the model\n",
    "fb_model=Prophet()\n",
    "\n",
    "#Fit the model\n",
    "fb_model.fit(trainX)"
   ]
  },
  {
   "cell_type": "code",
   "execution_count": null,
   "id": "24ae4c2f",
   "metadata": {},
   "outputs": [],
   "source": [
    "#future dates\n",
    "future = fb_model.make_future_dataframe(periods=test.shape[0])\n",
    "future.tail(test.shape[0])"
   ]
  },
  {
   "cell_type": "code",
   "execution_count": null,
   "id": "2d6a5b40",
   "metadata": {},
   "outputs": [],
   "source": [
    "#forecast\n",
    "fb_predictions=fb_model.predict(future)\n",
    "fb_predictions[['ds', 'yhat', 'yhat_lower', 'yhat_upper']].tail(test.shape[0])\n"
   ]
  },
  {
   "cell_type": "code",
   "execution_count": null,
   "id": "9f3bdf72",
   "metadata": {},
   "outputs": [],
   "source": [
    "#plot the data\n",
    "fig1 = fb_model.plot(fb_predictions)\n"
   ]
  },
  {
   "cell_type": "code",
   "execution_count": null,
   "id": "17874bf5",
   "metadata": {},
   "outputs": [],
   "source": [
    "train.total_cases = train.total_cases.astype(float)\n",
    "test.total_cases = test.total_cases.astype(float)"
   ]
  },
  {
   "cell_type": "code",
   "execution_count": null,
   "id": "b4fbb25a",
   "metadata": {
    "scrolled": true
   },
   "outputs": [],
   "source": [
    "ets_model = ets.ETSModel(train['total_cases'], freq='D', error='add').fit()\n",
    "predictions_ets = ets_model.predict(start=start, end=end)"
   ]
  },
  {
   "cell_type": "code",
   "execution_count": null,
   "id": "3d7dff97",
   "metadata": {},
   "outputs": [],
   "source": [
    "fb_pred = fb_predictions[[\"ds\",\"yhat\"]][-test.shape[0]:]\n",
    "fb_pred.set_index(\"ds\", inplace=True)"
   ]
  },
  {
   "cell_type": "code",
   "execution_count": null,
   "id": "0aeda513",
   "metadata": {},
   "outputs": [],
   "source": [
    "fb_pred"
   ]
  },
  {
   "cell_type": "markdown",
   "id": "ec033539",
   "metadata": {},
   "source": [
    "# 11 Create ensemble of three models and visualise the results"
   ]
  },
  {
   "cell_type": "code",
   "execution_count": null,
   "id": "35e1cd81",
   "metadata": {},
   "outputs": [],
   "source": [
    "#Ensemble predictions\n",
    "ensemble = (fb_pred.yhat + predictions_ets + test.predictions)/3"
   ]
  },
  {
   "cell_type": "code",
   "execution_count": null,
   "id": "7f31b132",
   "metadata": {},
   "outputs": [],
   "source": [
    "ax = train.plot()\n",
    "ax.plot(test[\"total_cases\"])\n",
    "ax.plot(test[\"predictions\"])\n",
    "ax.plot(fb_pred['yhat'])\n",
    "ax.plot(predictions_ets)\n",
    "ax.plot(ensemble)\n",
    "ax.set_xlim(date(2021,7,1),date(2021,8,23))\n",
    "ax.set_ylim(-3,100)\n",
    "ax.legend([\"TRAIN\", \"TEST\", \"PRED_ARIMA\",\"PRED_FB\", \"PRED_ETS\",\"ENSEMBLE\"]);"
   ]
  },
  {
   "cell_type": "markdown",
   "id": "58cc7b36",
   "metadata": {},
   "source": [
    "# 12 Add some exogenous variables to the model and try make better predictions"
   ]
  },
  {
   "cell_type": "code",
   "execution_count": null,
   "id": "aa28a803",
   "metadata": {},
   "outputs": [],
   "source": [
    "#Adding some features\n",
    "vic_cases_wf = data[[\"diagnosis_date\",\"acquired\",\"Postcode\"]].pivot_table(index=\"diagnosis_date\", columns=\"acquired\", values=\"Postcode\", aggfunc=\"count\", fill_value=0)\n",
    "vic_cases_wf[\"Community\"] = vic_cases_wf[\"Contact with a confirmed case\"] + vic_cases_wf[\"Under investigation\"]\n",
    "vic_cases_wf[\"lockdown\"] = vic_cases_wf.Community.apply(lambda val: 1 if val >= 10 else 0)\n",
    "\n",
    "#Formatting the index\n",
    "vic_cases_wf.index = pd.to_datetime(vic_cases_wf.index, format='%Y-%m-%d')\n",
    "\n",
    "#Filling the missing dates\n",
    "vic_cases_wf = vic_cases_wf.reindex(full_dates,fill_value=0)\n",
    "vic_cases_wf.index.rename(\"index\", inplace=True)\n",
    "\n",
    "#Adding the delta feature\n",
    "vic_cases_wf[\"delta\"] = vic_cases_wf.index.map(lambda val : 1 if val >= date(2021,6,1) else 0 )\n",
    "\n",
    "#print the shape\n",
    "print(vic_cases_wf.shape)\n",
    "\n",
    "vic_cases_wf.head()"
   ]
  },
  {
   "cell_type": "code",
   "execution_count": null,
   "id": "5d81c2d9",
   "metadata": {},
   "outputs": [],
   "source": [
    "#Lets visualise number of common cases\n",
    "vic_cases_wf.Community.plot.hist(bins=100)\n",
    "plt.xlim(0,100);"
   ]
  },
  {
   "cell_type": "code",
   "execution_count": null,
   "id": "0a3bb694",
   "metadata": {},
   "outputs": [],
   "source": [
    "#Plotting the lockdown\n",
    "vic_cases_wf.lockdown.plot();"
   ]
  },
  {
   "cell_type": "code",
   "execution_count": null,
   "id": "1057f406",
   "metadata": {},
   "outputs": [],
   "source": [
    "#Plotting delta\n",
    "vic_cases_wf.delta.plot();"
   ]
  },
  {
   "cell_type": "code",
   "execution_count": null,
   "id": "43f4028e",
   "metadata": {},
   "outputs": [],
   "source": [
    "#features to include in the model\n",
    "features = [\"delta\",\"lockdown\"]"
   ]
  },
  {
   "cell_type": "code",
   "execution_count": null,
   "id": "83190ff2",
   "metadata": {},
   "outputs": [],
   "source": [
    "#Subsetting the data\n",
    "vic_cases_wf_final = vic_cases_wf[features]\n",
    "vic_cases_wf_final = vic_cases_wf_final.reset_index()\\\n",
    "                                       .merge(vic_cases, left_on=\"index\", right_on=\"ds\")\\\n",
    "                                       .drop([\"index\"],1)\n",
    "vic_cases_wf_final.set_index(\"ds\", inplace=True)\n",
    "vic_cases_wf_final.head()"
   ]
  },
  {
   "cell_type": "code",
   "execution_count": null,
   "id": "34f7ea8e",
   "metadata": {},
   "outputs": [],
   "source": [
    "#Lets split the data into train and testing\n",
    "train = vic_cases_wf_final[:\"2021-08-20\"]\n",
    "test = vic_cases_wf_final[\"2021-08-21\":]"
   ]
  },
  {
   "cell_type": "code",
   "execution_count": null,
   "id": "dc2a291e",
   "metadata": {},
   "outputs": [],
   "source": [
    "auto_arima_model = auto_arima(train[\"y\"],\n",
    "                               X=train[features],\n",
    "                               max_p=30, \n",
    "                               max_q=30, \n",
    "                               max_order=62, \n",
    "                               n_jobs=1, \n",
    "                               seasonal=True, \n",
    "                               random_state=42, #seed\n",
    "                               n_fits=10,\n",
    "                               m=7,\n",
    "                               trace=True\n",
    "                             )\n",
    "#Getting the summary from the model\n",
    "auto_arima_model.summary()"
   ]
  },
  {
   "cell_type": "code",
   "execution_count": null,
   "id": "c7728122",
   "metadata": {},
   "outputs": [],
   "source": [
    "auto_arima_model = auto_arima(train[\"y\"],\n",
    "                               X=train[features],\n",
    "                               max_p=30, \n",
    "                               max_q=30, \n",
    "                               max_order=62, \n",
    "                               n_jobs=1, \n",
    "                               seasonal=False, \n",
    "                               random_state=42, #seed\n",
    "                               n_fits=10,\n",
    "                               trace=True\n",
    "                             )\n",
    "#Getting the summary from the model\n",
    "auto_arima_model.summary()"
   ]
  },
  {
   "cell_type": "code",
   "execution_count": null,
   "id": "4c1dd3e6",
   "metadata": {},
   "outputs": [],
   "source": [
    "#Train the models\n",
    "sarmia_model_exog=SARIMAX(train[\"y\"], exog=train[features],order=(3,0,1), seasonal_order=(2,0,0,7), freq=\"D\", max_iter=200).fit()\n",
    "arima_model_exog=ARIMA(train[\"y\"], exog=train[features], order=(1,0,5)).fit()\n"
   ]
  },
  {
   "cell_type": "code",
   "execution_count": null,
   "id": "d2f6b351",
   "metadata": {},
   "outputs": [],
   "source": [
    "sarima_exog_pred=sarmia_model_exog.predict(start=start, end=end, exog=test[features])\n",
    "arima_exog_pred=arima_model_exog.predict(start=start, end=end, exog=test[features])"
   ]
  },
  {
   "cell_type": "markdown",
   "id": "04ef80b5",
   "metadata": {},
   "source": [
    "# 13 Visualise the predictions against actual data after retraining with variables"
   ]
  },
  {
   "cell_type": "code",
   "execution_count": null,
   "id": "401a9464",
   "metadata": {},
   "outputs": [],
   "source": [
    "ax = train[\"y\"].plot()\n",
    "ax.plot(test[\"y\"])\n",
    "ax.plot(sarima_exog_pred)\n",
    "ax.plot(arima_exog_pred)\n",
    "ax.set_xlim(date(2021,7,1),date(2021,8,25))\n",
    "ax.set_ylim(-3,100)\n",
    "ax.legend([\"TRAIN\", \"TEST\", \"PRED_EXOG_SARIMA\",\"PRED_EXOG_ARIMA\"]);"
   ]
  },
  {
   "cell_type": "markdown",
   "id": "80087b79",
   "metadata": {},
   "source": [
    "# 14 Adding variables to FB model and predicting in the future"
   ]
  },
  {
   "cell_type": "code",
   "execution_count": null,
   "id": "a59beb08",
   "metadata": {},
   "outputs": [],
   "source": [
    "#Prepare training and testing data for FB prophet\n",
    "train = train.reset_index()\n",
    "test = test.reset_index()\n",
    "fb_train = train[[\"ds\",\"y\"] + features]\n",
    "fb_test = test[[\"ds\",\"y\"] + features]"
   ]
  },
  {
   "cell_type": "code",
   "execution_count": null,
   "id": "b974a651",
   "metadata": {},
   "outputs": [],
   "source": [
    "#Traing fb with exog variables\n",
    "fb_model_exog = Prophet()\n",
    "for _ in features:\n",
    "    fb_model_exog.add_regressor(_)\n",
    "fb_model_exog.fit(fb_train)"
   ]
  },
  {
   "cell_type": "code",
   "execution_count": null,
   "id": "93a11410",
   "metadata": {},
   "outputs": [],
   "source": [
    "#Lets make predictions for the model\n",
    "fb_exog_future = fb_model_exog.make_future_dataframe(periods=test.shape[0])\n",
    "for _ in features:\n",
    "    fb_exog_future[_] = [val for val in vic_cases_wf_final[_]]\n",
    "fb_exog_forecast = fb_model_exog.predict(fb_exog_future)\n",
    "#forecast\n",
    "fb_exog_forecast[['ds', 'yhat', 'yhat_lower', 'yhat_upper']].tail(test.shape[0])"
   ]
  },
  {
   "cell_type": "code",
   "execution_count": null,
   "id": "bea4f601",
   "metadata": {},
   "outputs": [],
   "source": [
    "#plot the data\n",
    "fig1 = fb_model_exog.plot(fb_exog_forecast)"
   ]
  },
  {
   "cell_type": "code",
   "execution_count": null,
   "id": "2a2a5cc6",
   "metadata": {},
   "outputs": [],
   "source": [
    "#Ensemble predictions\n",
    "fb_exog_pred = fb_exog_forecast[[\"ds\",\"yhat\"]][-test.shape[0]:]\n",
    "fb_exog_pred.set_index(\"ds\", inplace=True)\n",
    "ensemble_exog = (fb_exog_pred.yhat + sarima_exog_pred + arima_exog_pred)/3\n",
    "train.set_index(\"ds\", inplace=True)\n",
    "test.set_index(\"ds\", inplace=True)"
   ]
  },
  {
   "cell_type": "code",
   "execution_count": null,
   "id": "ab5615ac",
   "metadata": {},
   "outputs": [],
   "source": [
    "#Plotting all the models\n",
    "ax = train[\"y\"].plot()\n",
    "ax.plot(test[\"y\"])\n",
    "ax.plot(arima_exog_pred)\n",
    "ax.plot(sarima_exog_pred)\n",
    "ax.plot(fb_exog_pred)\n",
    "ax.plot(ensemble_exog)\n",
    "ax.set_xlim(date(2021,7,1),date(2021,8,25))\n",
    "ax.set_ylim(-3,100)\n",
    "ax.legend([\"TRAIN\", \"TEST\", \"PRED_ARIMA_EXOG\",\"PRED_SARIMA_EXOG\", \"PRED_FB_EXOG\",\"ENSEMBLE_EXOG\"]);"
   ]
  },
  {
   "cell_type": "markdown",
   "id": "1ef8779f",
   "metadata": {},
   "source": [
    "# 15 Looking for seasonal component in model"
   ]
  },
  {
   "cell_type": "code",
   "execution_count": null,
   "id": "27186b96",
   "metadata": {},
   "outputs": [],
   "source": [
    "#is there a seasonal component?\n",
    "#Traing fb with exog variables\n",
    "fb_model_exog_s = Prophet(daily_seasonality=True)\n",
    "for _ in features:\n",
    "    fb_model_exog_s.add_regressor(_)\n",
    "fb_model_exog_s.fit(fb_train)"
   ]
  },
  {
   "cell_type": "code",
   "execution_count": null,
   "id": "cbd8b1eb",
   "metadata": {},
   "outputs": [],
   "source": [
    "#Lets make predictions for the model\n",
    "fb_exog_future_s = fb_model_exog_s.make_future_dataframe(periods=test.shape[0])\n",
    "for _ in features:\n",
    "    fb_exog_future_s[_] = [val for val in vic_cases_wf_final[_]]\n",
    "fb_exog_forecast_s = fb_model_exog.predict(fb_exog_future_s)\n",
    "#forecast\n",
    "fb_exog_forecast_s[['ds', 'yhat', 'yhat_lower', 'yhat_upper']].tail(test.shape[0])"
   ]
  },
  {
   "cell_type": "code",
   "execution_count": null,
   "id": "be1dd275",
   "metadata": {},
   "outputs": [],
   "source": [
    "fb_model_exog_s.plot_components(fb_exog_forecast_s);"
   ]
  },
  {
   "cell_type": "code",
   "execution_count": null,
   "id": "b1134e06",
   "metadata": {},
   "outputs": [],
   "source": [
    "fb_model_exog_s.plot(fb_exog_forecast_s[-100:]);"
   ]
  },
  {
   "cell_type": "code",
   "execution_count": null,
   "id": "bc006a6a",
   "metadata": {},
   "outputs": [],
   "source": [
    "fb_exog_forecast_s.set_index(\"ds\", inplace=True)\n",
    "RMSE = rmse(test[\"y\"], fb_exog_forecast_s[\"yhat\"][-test.shape[0]:])\n",
    "print(f\"RMSE in fb model is {RMSE}\")"
   ]
  },
  {
   "cell_type": "markdown",
   "id": "a3b930c1",
   "metadata": {},
   "source": [
    "# 16 Lets forecast in the unknown future"
   ]
  },
  {
   "cell_type": "code",
   "execution_count": null,
   "id": "b952a47a",
   "metadata": {},
   "outputs": [],
   "source": [
    "#Lets do a forecast finally\n",
    "arima_model_exog=ARIMA(vic_cases_wf_final[\"y\"], exog=vic_cases_wf_final[features],order=(1,0,5)).fit()\n",
    "sarima_model_exog=SARIMAX(vic_cases_wf_final[\"y\"], exog=vic_cases_wf_final[features],order=(3,0,1), seasonal_order=(2,0,0,7)).fit()\n",
    "fb_full = pd.concat([fb_train, fb_test], axis=0, ignore_index=True)\n",
    "fb_model_exog_s = Prophet(daily_seasonality=True)\n",
    "fb_model_exog_s.add_regressor(\"lockdown\")\n",
    "fb_model_exog_s.add_regressor(\"delta\")\n",
    "fb_model_exog_s.fit(fb_full)"
   ]
  },
  {
   "cell_type": "code",
   "execution_count": null,
   "id": "e1e42cc5",
   "metadata": {},
   "outputs": [],
   "source": [
    "#Lets make predictions for the model\n",
    "fb_exog_future_s = fb_model_exog_s.make_future_dataframe(periods=test.shape[0])\n",
    "for _ in features:\n",
    "    fb_exog_future_s[_] = [val for val in vic_cases_wf_final[_]] + list(np.ones(test.shape[0]))\n",
    "fb_exog_forecast_s = fb_model_exog.predict(fb_exog_future_s)\n",
    "#forecast\n",
    "fb_exog_forecast_s[['ds', 'yhat', 'yhat_lower', 'yhat_upper']].tail(test.shape[0])"
   ]
  },
  {
   "cell_type": "code",
   "execution_count": null,
   "id": "7ac5210c",
   "metadata": {},
   "outputs": [],
   "source": [
    "#Foreasting arima and sarima\n",
    "arima_exog_future=fb_exog_forecast_s[[\"ds\"]][-test.shape[0]:]\n",
    "\n",
    "#Adding exogenous variables\n",
    "for _ in features:\n",
    "    arima_exog_future[_] = 1\n",
    "arima_exog_future.set_index(\"ds\", inplace=True)\n",
    "start=vic_cases_wf_final.shape[0]\n",
    "end=vic_cases_wf_final.shape[0] + test.shape[0] -1\n",
    "\n",
    "#Forecasts\n",
    "arima_exog_forecast = arima_model_exog.predict(start=start, end=end, exog=arima_exog_future[features])\n",
    "sarima_exog_forecast = sarima_model_exog.predict(start=start, end=end, exog=arima_exog_future[features])"
   ]
  },
  {
   "cell_type": "code",
   "execution_count": null,
   "id": "11f992c2",
   "metadata": {},
   "outputs": [],
   "source": [
    "#extracting fb porphet forecast and adding the ensemble model\n",
    "fb_exog_forecast_s = fb_exog_forecast_s[[\"ds\",\"yhat\"]][-test.shape[0]:]\n",
    "fb_exog_forecast_s.set_index(\"ds\", inplace=True)\n",
    "ensemble_exog = (fb_exog_forecast_s.yhat + sarima_exog_forecast + arima_exog_forecast)/3"
   ]
  },
  {
   "cell_type": "markdown",
   "id": "0ecbd686",
   "metadata": {},
   "source": [
    "# 17 Making predictions with our four models"
   ]
  },
  {
   "cell_type": "code",
   "execution_count": null,
   "id": "2dac8d37",
   "metadata": {},
   "outputs": [],
   "source": [
    "#Plotting all the models in uknown future\n",
    "ax = vic_cases_wf_final[\"y\"].plot()\n",
    "ax.plot(arima_exog_forecast)\n",
    "ax.plot(sarima_exog_forecast)\n",
    "ax.plot(fb_exog_forecast_s)\n",
    "ax.plot(ensemble_exog)\n",
    "ax.set_xlim(date(2021,7,31),date(2021,8,30))\n",
    "ax.set_ylim(-3,100)\n",
    "ax.legend([\"TRAIN\", \"FORECAST_ARIMA_EXOG\",\"FORECAST_SARIMA_EXOG\", \"FORECAST_FB_EXOG_S\", \"FORECAST_ENSEMBLE_EXOG\"]);"
   ]
  },
  {
   "cell_type": "code",
   "execution_count": null,
   "id": "b3c43f6e",
   "metadata": {},
   "outputs": [],
   "source": [
    "print(sarima_exog_forecast)"
   ]
  },
  {
   "cell_type": "code",
   "execution_count": null,
   "id": "0e207440",
   "metadata": {},
   "outputs": [],
   "source": [
    "print(arima_exog_forecast)"
   ]
  },
  {
   "cell_type": "code",
   "execution_count": null,
   "id": "f4345cf7",
   "metadata": {},
   "outputs": [],
   "source": [
    "print(ensemble_exog)"
   ]
  },
  {
   "cell_type": "code",
   "execution_count": null,
   "id": "4561c80b",
   "metadata": {
    "scrolled": true
   },
   "outputs": [],
   "source": [
    "print(fb_exog_forecast_s)"
   ]
  },
  {
   "cell_type": "markdown",
   "id": "c99e1cb2",
   "metadata": {},
   "source": [
    "# 18 Lets try advanced model called neural prophet that uses AR-NET or neural networks for timeseries, another tool developed by facebook and uses pytorch as the backend"
   ]
  },
  {
   "cell_type": "code",
   "execution_count": null,
   "id": "ad19d63b",
   "metadata": {},
   "outputs": [],
   "source": [
    "%%time\n",
    "fb_neural_model = NeuralProphet(epochs=1000, n_forecasts=5, n_lags=3)\n",
    "for _ in features:\n",
    "    fb_neural_model.add_lagged_regressor(_)\n",
    "fb_neural_metrics = fb_neural_model.fit(fb_full, freq='D')"
   ]
  },
  {
   "cell_type": "code",
   "execution_count": null,
   "id": "7575e9dd",
   "metadata": {
    "scrolled": true
   },
   "outputs": [],
   "source": [
    "#Lets make predictions for the model\n",
    "fb_neural_future = fb_neural_model.make_future_dataframe(df=fb_full, periods=test.shape[0])\n",
    "for _ in features:\n",
    "    fb_neural_future[_].iloc[-test.shape[0]:] = list(np.ones(test.shape[0]))\n",
    "fb_neural_forecast = fb_neural_model.predict(fb_neural_future)\n",
    "fb_neural_forecast.head()\n"
   ]
  },
  {
   "cell_type": "code",
   "execution_count": null,
   "id": "339209ab",
   "metadata": {},
   "outputs": [],
   "source": [
    "#Plotting the components\n",
    "fb_neural_model.plot_components(fb_neural_forecast)"
   ]
  },
  {
   "cell_type": "code",
   "execution_count": null,
   "id": "c692ddd4",
   "metadata": {},
   "outputs": [],
   "source": [
    "#Making the forecast plot\n",
    "fb_neural_model.plot(fb_neural_forecast);"
   ]
  },
  {
   "cell_type": "code",
   "execution_count": null,
   "id": "b47d9aea",
   "metadata": {},
   "outputs": [],
   "source": [
    "forecasts = []\n",
    "for col in fb_neural_forecast.columns:\n",
    "    if 'yhat' in col:\n",
    "        forecasts.append([val for val in fb_neural_forecast[col] if val is not None][0])\n",
    "forecast_df = fb_neural_forecast[[\"ds\",\"y\"]][-test.shape[0]:]\n",
    "forecast_df.y = forecasts\n",
    "forecast_df.set_index(\"ds\", inplace=True)\n",
    "forecast_df.head()"
   ]
  },
  {
   "cell_type": "code",
   "execution_count": null,
   "id": "47c9064e",
   "metadata": {},
   "outputs": [],
   "source": [
    "ax = vic_cases_wf_final[\"y\"].plot(figsize=(14,8))\n",
    "ax.plot(forecast_df[\"y\"])\n",
    "ax.set_xlim(date(2021,7,31), date(2021,8,30))\n",
    "ax.set_ylim(0,100)\n",
    "ax.legend([\"TRAIN\",\"FORECAST\"]);"
   ]
  },
  {
   "cell_type": "markdown",
   "id": "456fc875",
   "metadata": {},
   "source": [
    "# 19 Are these any better than moving average models, why should we use or not use them? "
   ]
  },
  {
   "cell_type": "code",
   "execution_count": null,
   "id": "deee8aad",
   "metadata": {},
   "outputs": [],
   "source": []
  }
 ],
 "metadata": {
  "kernelspec": {
   "display_name": "Python 3 (ipykernel)",
   "language": "python",
   "name": "python3"
  },
  "language_info": {
   "codemirror_mode": {
    "name": "ipython",
    "version": 3
   },
   "file_extension": ".py",
   "mimetype": "text/x-python",
   "name": "python",
   "nbconvert_exporter": "python",
   "pygments_lexer": "ipython3",
   "version": "3.8.8"
  }
 },
 "nbformat": 4,
 "nbformat_minor": 5
}
