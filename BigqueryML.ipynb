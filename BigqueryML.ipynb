{
 "cells": [
  {
   "cell_type": "code",
   "execution_count": null,
   "id": "94415845",
   "metadata": {},
   "outputs": [],
   "source": [
    "#Import Libraries\n",
    "import pandas as pd\n",
    "import os\n",
    "from google.cloud import bigquery\n",
    "from datetime import date\n",
    "from google.api_core.exceptions import Conflict\n",
    "from statsmodels.tools.eval_measures import rmse, mse"
   ]
  },
  {
   "cell_type": "code",
   "execution_count": null,
   "id": "96b1ac1b",
   "metadata": {},
   "outputs": [],
   "source": [
    "#Inititate the client\n",
    "project_id = \"bridge-data-analytics-app\" #update the project\n",
    "client = bigquery.Client(project=project_id)\n",
    "user = os.getenv(\"USER\")\n",
    "\n",
    "#create the dataset reference\n",
    "dataset_id = f\"{client.project}.nakul\" #update the dataset\n",
    "dataset = bigquery.Dataset(dataset_ref=dataset_id)\n",
    "dataset.location = \"australia-southeast1\"\n",
    "\n",
    "# Send the dataset to the API for creation, with an explicit timeout.\n",
    "# Raises google.api_core.exceptions.Conflict if the Dataset already\n",
    "# exists within the project.\n",
    "try:\n",
    "    dataset = client.create_dataset(dataset, timeout=30)  # Make an API request.\n",
    "    print(\"Created dataset {}.{}\".format(client.project, dataset.dataset_id))\n",
    "except Conflict as c:\n",
    "    print(f\"Cannot create due to {c}\") \n",
    "    "
   ]
  },
  {
   "cell_type": "code",
   "execution_count": null,
   "id": "7776eb75",
   "metadata": {},
   "outputs": [],
   "source": [
    "#Read data\n",
    "data = pd.read_csv(f\"/Users/{user}/forecasting-part-two/victoria_covid_cases_source_updated.csv\", parse_dates=True)"
   ]
  },
  {
   "cell_type": "code",
   "execution_count": null,
   "id": "abd6a109",
   "metadata": {},
   "outputs": [],
   "source": [
    "#Load data bq\n",
    "data.to_gbq(destination_table=f\"{dataset.dataset_id}.victoria_cases_by_postcode_lga\", \n",
    "                                project_id=client.project,\n",
    "                                if_exists=\"replace\")"
   ]
  },
  {
   "cell_type": "code",
   "execution_count": null,
   "id": "c7b5299c",
   "metadata": {},
   "outputs": [],
   "source": [
    "#Get the data and aggregate it in bigquery\n",
    "\n",
    "date_column = \"diagnosis_date\"\n",
    "label = \"total\"\n",
    "\n",
    "table_id = f\"{client.project}.{dataset.dataset_id}.vic_daily_cases\"\n",
    "\n",
    "job_config = bigquery.QueryJobConfig(destination=table_id)\n",
    "job_config.write_disposition = \"WRITE_TRUNCATE\" #overwrite the table\n",
    "\n",
    "sql = f\"\"\"select \n",
    "          parse_date('%Y-%m-%d',{date_column}) as {date_column}, \n",
    "          count(Postcode) as {label} \n",
    "          from {dataset.dataset_id}.victoria_cases_by_postcode_lga\n",
    "          group by {date_column}\n",
    "          order by {date_column}\n",
    "       \"\"\"\n",
    "\n",
    "# Start the query, passing in the extra configuration.\n",
    "query_job = client.query(sql, job_config=job_config)  # Make an API request.\n",
    "query_job.result()  # Wait for the job to complete.\n",
    "\n",
    "print(\"Query results loaded to the table {}\".format(table_id))\n"
   ]
  },
  {
   "cell_type": "code",
   "execution_count": null,
   "id": "39fd5044",
   "metadata": {},
   "outputs": [],
   "source": [
    "#Configuration of train test split and table and model names\n",
    "train_test_split=\"2021-08-20\"\n",
    "training_table=f\"{client.project}.{dataset.dataset_id}.vic_daily_cases_training\"\n",
    "testing_table=f\"{client.project}.{dataset.dataset_id}.vic_daily_cases_testing\"\n",
    "model_name=f\"{dataset.dataset_id}.vic_cases_bq_arima_model\""
   ]
  },
  {
   "cell_type": "code",
   "execution_count": null,
   "id": "d7f4a16a",
   "metadata": {},
   "outputs": [],
   "source": [
    "#Creating training and testing tables\n",
    "\n",
    "##TRAINING\n",
    "job_config = bigquery.QueryJobConfig(destination=training_table)\n",
    "job_config.write_disposition = \"WRITE_TRUNCATE\" #overwrite the table\n",
    "\n",
    "sql = f\"select * FROM {table_id} where {date_column} <= '{train_test_split}'\"\n",
    "\n",
    "# Start the query, passing in the extra configuration.\n",
    "query_job = client.query(sql, job_config=job_config)  # Make an API request.\n",
    "query_job.result()  # Wait for the job to complete.\n",
    "\n",
    "print(\"Query results loaded to the table {}\".format(training_table))\n",
    "\n",
    "\n",
    "##TESTING\n",
    "job_config = bigquery.QueryJobConfig(destination=testing_table)\n",
    "job_config.write_disposition = \"WRITE_TRUNCATE\" #overwrite the table\n",
    "\n",
    "sql = f\"select * FROM {table_id} where {date_column} > '{train_test_split}'\"\n",
    "\n",
    "# Start the query, passing in the extra configuration.\n",
    "query_job = client.query(sql, job_config=job_config)  # Make an API request.\n",
    "query_job.result()  # Wait for the job to complete.\n",
    "\n",
    "print(\"Query results loaded to the table {}\".format(testing_table))"
   ]
  },
  {
   "cell_type": "code",
   "execution_count": null,
   "id": "506776d2",
   "metadata": {},
   "outputs": [],
   "source": [
    "#Defining model parameters\n",
    "model_type = \"ARIMA_PLUS\"\n",
    "auto_arima = \"TRUE\"\n",
    "data_frequency = \"AUTO_FREQUENCY\"\n",
    "decompose_series = \"TRUE\""
   ]
  },
  {
   "cell_type": "code",
   "execution_count": null,
   "id": "a55fe207",
   "metadata": {},
   "outputs": [],
   "source": [
    "#CREATE THE MODEL AND TRAIN IT\n",
    "#standardSQL\n",
    "sql = f\"\"\"CREATE OR REPLACE MODEL {model_name}\n",
    "OPTIONS\n",
    "  (model_type = '{model_type}',\n",
    "   time_series_timestamp_col = '{date_column}',\n",
    "   time_series_data_col = '{label}',\n",
    "   auto_arima = {auto_arima},\n",
    "   data_frequency = '{data_frequency}',\n",
    "   decompose_time_series = {decompose_series}\n",
    "  ) AS\n",
    "SELECT\n",
    "  {date_column},\n",
    "  {label}\n",
    "FROM\n",
    "  `{training_table}`\n",
    "\"\"\"\n",
    "\n",
    "query_job = client.query(sql)\n",
    "query_job.result()#waiting for the result"
   ]
  },
  {
   "cell_type": "code",
   "execution_count": null,
   "id": "fc68eb23",
   "metadata": {},
   "outputs": [],
   "source": [
    "#Evaluate the model parameters\n",
    "query=f\"\"\"SELECT\n",
    "            *\n",
    "            FROM\n",
    "            ML.ARIMA_EVALUATE(MODEL {model_name})\n",
    "        \"\"\"\n",
    "model_evaluate = pd.read_gbq(query=query, project_id=client.project, dialect='standard')\n",
    "model_evaluate"
   ]
  },
  {
   "cell_type": "code",
   "execution_count": null,
   "id": "a106822f",
   "metadata": {},
   "outputs": [],
   "source": [
    "#Get model coefficients\n",
    "query=f\"\"\"SELECT\n",
    "            *\n",
    "            FROM\n",
    "            ML.ARIMA_COEFFICIENTS(MODEL {model_name})\n",
    "        \"\"\"\n",
    "model_coefficients = pd.read_gbq(query=query, project_id=client.project, dialect='standard')\n",
    "model_coefficients"
   ]
  },
  {
   "cell_type": "code",
   "execution_count": null,
   "id": "66f376f0",
   "metadata": {},
   "outputs": [],
   "source": [
    "#FORECAST 5 days ahead\n",
    "\n",
    "forecast_days=5\n",
    "query=f\"\"\"\n",
    "SELECT parse_date('%Y-%m-%d', format_datetime('%Y-%m-%d', forecast_timestamp)) as diagnosis_date, *\n",
    "FROM\n",
    "(\n",
    "SELECT\n",
    " *\n",
    "FROM\n",
    " ML.FORECAST(MODEL {model_name},\n",
    "             STRUCT({forecast_days} AS horizon, 0.9 AS confidence_level))\n",
    ")\n",
    "\"\"\"\n",
    "forecast_data=pd.read_gbq(query=query, project_id=client.project, dialect='standard')\n",
    "forecast_data"
   ]
  },
  {
   "cell_type": "code",
   "execution_count": null,
   "id": "84d6c27c",
   "metadata": {},
   "outputs": [],
   "source": [
    "#test data\n",
    "query=f\"\"\"SELECT * FROM {testing_table} order by {date_column}\"\"\"\n",
    "test_data=pd.read_gbq(query=query, project_id=client.project, dialect='standard')\n",
    "test_data"
   ]
  },
  {
   "cell_type": "code",
   "execution_count": null,
   "id": "ef064597",
   "metadata": {},
   "outputs": [],
   "source": [
    "RMSE = rmse(test_data.total, forecast_data.forecast_value)\n",
    "print(f\"rmse is {RMSE}\")"
   ]
  },
  {
   "cell_type": "code",
   "execution_count": null,
   "id": "5055d13d",
   "metadata": {},
   "outputs": [],
   "source": [
    "#train data\n",
    "query=f\"\"\"SELECT * FROM {training_table} order by {date_column}\"\"\"\n",
    "train_data=pd.read_gbq(query=query, project_id=client.project, dialect='standard')\n",
    "train_data"
   ]
  },
  {
   "cell_type": "code",
   "execution_count": null,
   "id": "94e4f7bc",
   "metadata": {},
   "outputs": [],
   "source": [
    "#plot the data\n",
    "train_data.set_index(f\"{date_column}\", inplace=True)\n",
    "test_data.set_index(f\"{date_column}\", inplace=True)\n",
    "forecast_data.set_index(f\"{date_column}\", inplace=True)"
   ]
  },
  {
   "cell_type": "code",
   "execution_count": null,
   "id": "fc0206da",
   "metadata": {},
   "outputs": [],
   "source": [
    "#Plot the training, test and Forecast\n",
    "ax = train_data[f\"{label}\"].plot(figsize=(14,8), lw=4)\n",
    "ax.plot(test_data[f\"{label}\"], lw=4)\n",
    "ax.plot(forecast_data.forecast_value, lw=4)\n",
    "ax.set_xlim(date(2021,6,1), date(2021,8,25))\n",
    "ax.set_ylim(0,100)\n",
    "ax.legend([\"TRAIN\",\"TEST\",\"FORECAST\"]);"
   ]
  },
  {
   "cell_type": "code",
   "execution_count": null,
   "id": "c5e3fe11",
   "metadata": {},
   "outputs": [],
   "source": [
    "#FORECAST INTO THE FUTURE\n",
    "\n",
    "\n",
    "#CREATE THE MODEL AND TRAIN IT\n",
    "#standardSQL\n",
    "sql = f\"\"\"CREATE OR REPLACE MODEL {model_name}\n",
    "OPTIONS\n",
    "  (model_type = '{model_type}',\n",
    "   time_series_timestamp_col = '{date_column}',\n",
    "   time_series_data_col = '{label}',\n",
    "   auto_arima = {auto_arima},\n",
    "   data_frequency = '{data_frequency}',\n",
    "   decompose_time_series = {decompose_series}\n",
    "  ) AS\n",
    "SELECT\n",
    "  {date_column},\n",
    "  {label}\n",
    "FROM\n",
    "  `{table_id}`\n",
    "\"\"\"\n",
    "\n",
    "query_job = client.query(sql)\n",
    "query_job.result()#waiting for the result"
   ]
  },
  {
   "cell_type": "code",
   "execution_count": null,
   "id": "16a56f41",
   "metadata": {},
   "outputs": [],
   "source": [
    "#Forecasting 10 days ahead\n",
    "forecast_days=10\n",
    "query=f\"\"\"\n",
    "SELECT parse_date('%Y-%m-%d', format_datetime('%Y-%m-%d', forecast_timestamp)) as diagnosis_date, *\n",
    "FROM\n",
    "(\n",
    "SELECT\n",
    " *\n",
    "FROM\n",
    " ML.FORECAST(MODEL {model_name},\n",
    "             STRUCT({forecast_days} AS horizon, 0.9 AS confidence_level))\n",
    ")\n",
    "\"\"\"\n",
    "forecast_data=pd.read_gbq(query=query, project_id=client.project, dialect='standard')\n",
    "forecast_data"
   ]
  },
  {
   "cell_type": "code",
   "execution_count": null,
   "id": "59a8efbe",
   "metadata": {},
   "outputs": [],
   "source": [
    "#Getting the full data \n",
    "full_data = train_data.append(test_data, sort=True)\n",
    "forecast_data.set_index(f\"{date_column}\", inplace=True)"
   ]
  },
  {
   "cell_type": "code",
   "execution_count": null,
   "id": "ea586141",
   "metadata": {},
   "outputs": [],
   "source": [
    "full_data"
   ]
  },
  {
   "cell_type": "code",
   "execution_count": null,
   "id": "3b2bc048",
   "metadata": {},
   "outputs": [],
   "source": [
    "forecast_data.forecast_value"
   ]
  },
  {
   "cell_type": "code",
   "execution_count": null,
   "id": "2f046736",
   "metadata": {},
   "outputs": [],
   "source": [
    "ax = full_data[f\"{label}\"].plot(figsize=(14,8), lw=4)\n",
    "ax.plot(forecast_data.forecast_value, lw=4)\n",
    "ax.set_xlim(date(2021,6,1), date(2021,9,4))\n",
    "ax.set_ylim(0,100)\n",
    "ax.legend([\"TRAIN\",\"FORECAST\"]);"
   ]
  }
 ],
 "metadata": {
  "kernelspec": {
   "display_name": "Python 3 (ipykernel)",
   "language": "python",
   "name": "python3"
  },
  "language_info": {
   "codemirror_mode": {
    "name": "ipython",
    "version": 3
   },
   "file_extension": ".py",
   "mimetype": "text/x-python",
   "name": "python",
   "nbconvert_exporter": "python",
   "pygments_lexer": "ipython3",
   "version": "3.8.8"
  }
 },
 "nbformat": 4,
 "nbformat_minor": 5
}
